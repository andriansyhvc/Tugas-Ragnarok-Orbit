{
 "cells": [
  {
   "cell_type": "markdown",
   "id": "1bc131f9",
   "metadata": {},
   "source": [
    "## Operasi Matematika dan Numpy"
   ]
  },
  {
   "cell_type": "code",
   "execution_count": 1,
   "id": "0e42da09",
   "metadata": {},
   "outputs": [],
   "source": [
    "import numpy as np"
   ]
  },
  {
   "cell_type": "markdown",
   "id": "ab01fed2",
   "metadata": {},
   "source": [
    "### Pengenalan Array"
   ]
  },
  {
   "cell_type": "code",
   "execution_count": 2,
   "id": "b8772670",
   "metadata": {},
   "outputs": [
    {
     "name": "stdout",
     "output_type": "stream",
     "text": [
      "banyaknya entry =  4\n",
      "dimensi array =  1\n",
      "ukuran array =  (4,)\n"
     ]
    }
   ],
   "source": [
    "#1D array\n",
    "a = np.array([4, 3, 5, 7])\n",
    "print('banyaknya entry = ', a.size)\n",
    "print('dimensi array = ', a.ndim)\n",
    "print('ukuran array = ', a.shape)"
   ]
  },
  {
   "cell_type": "code",
   "execution_count": 3,
   "id": "d4956fde",
   "metadata": {},
   "outputs": [
    {
     "data": {
      "text/plain": [
       "array([3, 5, 7])"
      ]
     },
     "execution_count": 3,
     "metadata": {},
     "output_type": "execute_result"
    }
   ],
   "source": [
    "#Slicing\n",
    "a[1:]"
   ]
  },
  {
   "cell_type": "code",
   "execution_count": 4,
   "id": "ecbd5ed4",
   "metadata": {},
   "outputs": [
    {
     "name": "stdout",
     "output_type": "stream",
     "text": [
      "a[1:3] =  [3 5]\n",
      "a[:3] =  [4 3 5]\n"
     ]
    }
   ],
   "source": [
    "print('a[1:3] = ', a[1:3])\n",
    "print('a[:3] = ', a[:3])"
   ]
  },
  {
   "cell_type": "code",
   "execution_count": 5,
   "id": "c5ba241f",
   "metadata": {},
   "outputs": [
    {
     "name": "stdout",
     "output_type": "stream",
     "text": [
      "[[1 2 3]\n",
      " [4 5 6]\n",
      " [7 8 9]]\n"
     ]
    }
   ],
   "source": [
    "#2D Array (Matriks)\n",
    "A = np.array([[1, 2, 3], [4, 5, 6], [7, 8, 9]])\n",
    "print(A)"
   ]
  },
  {
   "cell_type": "markdown",
   "id": "2dc850c8",
   "metadata": {},
   "source": [
    "### Latihan-2 (2D array)"
   ]
  },
  {
   "cell_type": "code",
   "execution_count": 6,
   "id": "1a02076e",
   "metadata": {},
   "outputs": [
    {
     "name": "stdout",
     "output_type": "stream",
     "text": [
      "banyaknya entry =  4\n",
      "dimensi array =  1\n",
      "ukuran array =  (4,)\n"
     ]
    }
   ],
   "source": [
    "b = np.array([21, 7, 20, 10])\n",
    "print('banyaknya entry = ',b.size)\n",
    "print('dimensi array = ',b.ndim)\n",
    "print('ukuran array = ',b.shape)"
   ]
  },
  {
   "cell_type": "code",
   "execution_count": 7,
   "id": "0c0e78a4",
   "metadata": {},
   "outputs": [],
   "source": [
    "B = np.array([[11, 12, 13], [14, 15, 16], [17, 18, 19]])"
   ]
  },
  {
   "cell_type": "code",
   "execution_count": 8,
   "id": "b34a9179",
   "metadata": {},
   "outputs": [
    {
     "name": "stdout",
     "output_type": "stream",
     "text": [
      "baris ke-2 =  [14 15 16]\n",
      "entry ke-2 & 3 baris ke-2 =  [15 16]\n",
      "entry pertama & 2 kolom ke-2 =  [12 15]\n"
     ]
    }
   ],
   "source": [
    "#Slicing\n",
    "print('baris ke-2 = ', B[1])\n",
    "print('entry ke-2 & 3 baris ke-2 = ', B[1, 1:])\n",
    "print('entry pertama & 2 kolom ke-2 = ', B[:2, 1])"
   ]
  },
  {
   "cell_type": "markdown",
   "id": "8ae2b3e9",
   "metadata": {},
   "source": [
    "### Latihan-3 (Sciling)"
   ]
  },
  {
   "cell_type": "code",
   "execution_count": 9,
   "id": "8b1e6c26",
   "metadata": {},
   "outputs": [
    {
     "name": "stdout",
     "output_type": "stream",
     "text": [
      "[[21  2 23]\n",
      " [24 25 26]\n",
      " [27 28 29]]\n"
     ]
    }
   ],
   "source": [
    "C = np.array([[21, 2, 23], [24, 25, 26], [27, 28, 29]])\n",
    "print(C)"
   ]
  },
  {
   "cell_type": "code",
   "execution_count": 10,
   "id": "e63512b4",
   "metadata": {},
   "outputs": [
    {
     "name": "stdout",
     "output_type": "stream",
     "text": [
      "baris ke-3 =  [27 28 29]\n",
      "entry ke-1 & 2 baris ke-3 =  [27 28]\n",
      "entry ke-2 & 3 kolom ke-3 =  [26 29]\n"
     ]
    }
   ],
   "source": [
    "# Lengkapi kodingan berikut\n",
    "print('baris ke-3 = ',C[2])\n",
    "print('entry ke-1 & 2 baris ke-3 = ',C[2,0:-1])\n",
    "print('entry ke-2 & 3 kolom ke-3 = ',C[-2:,2])"
   ]
  },
  {
   "cell_type": "markdown",
   "id": "f0708a7e",
   "metadata": {},
   "source": [
    "1. output jawaban: baris ke-3 = [27 28 29]\n",
    "2. entry ke-1 & 2 baris ke-3 = [27 28]\n",
    "3. entry ke-2 & 3 kolom ke-3 = [26 29]\n"
   ]
  },
  {
   "cell_type": "markdown",
   "id": "e45780a0",
   "metadata": {},
   "source": [
    "### Operasi Matematika di Numpy"
   ]
  },
  {
   "cell_type": "code",
   "execution_count": 11,
   "id": "ec09b307",
   "metadata": {},
   "outputs": [
    {
     "name": "stdout",
     "output_type": "stream",
     "text": [
      "perkalian antar entry = \n",
      "[[ 1  4  9]\n",
      " [16 25 36]\n",
      " [49 64 81]]\n"
     ]
    }
   ],
   "source": [
    "D = A*A\n",
    "print('perkalian antar entry = ')\n",
    "print(D)"
   ]
  },
  {
   "cell_type": "code",
   "execution_count": 12,
   "id": "1ef5557e",
   "metadata": {},
   "outputs": [
    {
     "name": "stdout",
     "output_type": "stream",
     "text": [
      "perkalian matriks = \n",
      "[[ 30  36  42]\n",
      " [ 66  81  96]\n",
      " [102 126 150]]\n"
     ]
    }
   ],
   "source": [
    "print('perkalian matriks = ')\n",
    "print(np.matmul(A,A))"
   ]
  },
  {
   "cell_type": "markdown",
   "id": "d3ec50df",
   "metadata": {},
   "source": [
    "Bisa dilihat perbedaan perkalian antar entry dan perkalian matriks biasa?"
   ]
  },
  {
   "cell_type": "code",
   "execution_count": 13,
   "id": "03a06ce9",
   "metadata": {},
   "outputs": [
    {
     "name": "stdout",
     "output_type": "stream",
     "text": [
      "determinan matriks A =  6.66133814775094e-16\n",
      "determinan matriks C =  -216.00000000000006\n"
     ]
    }
   ],
   "source": [
    "print('determinan matriks A = ', np.linalg.det(A))\n",
    "print('determinan matriks C = ', np.linalg.det(D))"
   ]
  },
  {
   "cell_type": "code",
   "execution_count": 14,
   "id": "f089e295",
   "metadata": {},
   "outputs": [
    {
     "name": "stdout",
     "output_type": "stream",
     "text": [
      "nilai dan vektor eigen matriks A =  (array([ 1.61168440e+01, -1.11684397e+00, -4.22209278e-16]), array([[-0.23197069, -0.78583024,  0.40824829],\n",
      "       [-0.52532209, -0.08675134, -0.81649658],\n",
      "       [-0.8186735 ,  0.61232756,  0.40824829]]))\n"
     ]
    }
   ],
   "source": [
    "print('nilai dan vektor eigen matriks A = ', np.linalg.eig(A))"
   ]
  },
  {
   "cell_type": "code",
   "execution_count": 15,
   "id": "8fc7553e",
   "metadata": {},
   "outputs": [
    {
     "name": "stdout",
     "output_type": "stream",
     "text": [
      "nilai eigen matriks A =  [ 1.61168440e+01 -1.11684397e+00 -4.22209278e-16]\n"
     ]
    }
   ],
   "source": [
    "print('nilai eigen matriks A = ', np.linalg.eig(A)[0])"
   ]
  },
  {
   "cell_type": "code",
   "execution_count": 16,
   "id": "d6f6460f",
   "metadata": {},
   "outputs": [
    {
     "name": "stdout",
     "output_type": "stream",
     "text": [
      "vektor eigen matriks A =  [[-0.23197069 -0.78583024  0.40824829]\n",
      " [-0.52532209 -0.08675134 -0.81649658]\n",
      " [-0.8186735   0.61232756  0.40824829]]\n"
     ]
    }
   ],
   "source": [
    "print('vektor eigen matriks A = ', np.linalg.eig(A)[1])"
   ]
  },
  {
   "cell_type": "code",
   "execution_count": 17,
   "id": "02f93d46",
   "metadata": {},
   "outputs": [],
   "source": [
    "e_vec = np.linalg.eig(A)[1][:, 0]\n",
    "e_val = np.linalg.eig(A)[0][0]"
   ]
  },
  {
   "cell_type": "code",
   "execution_count": 18,
   "id": "e868941c",
   "metadata": {},
   "outputs": [],
   "source": [
    "e_value = e_val.real"
   ]
  },
  {
   "cell_type": "code",
   "execution_count": 19,
   "id": "aadb5418",
   "metadata": {},
   "outputs": [
    {
     "name": "stdout",
     "output_type": "stream",
     "text": [
      "[ -3.73863537  -8.46653421 -13.19443305]\n"
     ]
    }
   ],
   "source": [
    "print(np.matmul(A, e_vec))"
   ]
  },
  {
   "cell_type": "code",
   "execution_count": 20,
   "id": "8c3b8779",
   "metadata": {},
   "outputs": [
    {
     "name": "stdout",
     "output_type": "stream",
     "text": [
      "[ -3.73863537  -8.46653421 -13.19443305]\n"
     ]
    }
   ],
   "source": [
    "print(e_val*e_vec)"
   ]
  },
  {
   "cell_type": "markdown",
   "id": "69467469",
   "metadata": {},
   "source": [
    "### Latihan-4 (Operasi matriks)"
   ]
  },
  {
   "cell_type": "code",
   "execution_count": 21,
   "id": "22d0f0fa",
   "metadata": {},
   "outputs": [],
   "source": [
    "A = np.array([[1, 2], [7,8]])\n",
    "B = np.array([[3, 5], [1,6]])"
   ]
  },
  {
   "cell_type": "markdown",
   "id": "7306a852",
   "metadata": {},
   "source": [
    "\n",
    "\n",
    "Hitunglah:\n",
    "1. 2*A\n",
    "2. 2+A\n",
    "3. A+B\n",
    "4. A-B\n",
    "5. determinan A\n",
    "6. invers dari B, simpan jadi matriks D\n",
    "7. transpose D\n",
    "8. nilai eigen dan vektor eigen dari A dan B\n",
    "\n"
   ]
  },
  {
   "cell_type": "code",
   "execution_count": 22,
   "id": "706c27c7",
   "metadata": {},
   "outputs": [],
   "source": [
    "d = np.linalg.inv(B)"
   ]
  },
  {
   "cell_type": "code",
   "execution_count": 23,
   "id": "ba86a59d",
   "metadata": {},
   "outputs": [
    {
     "name": "stdout",
     "output_type": "stream",
     "text": [
      "perkalian antar entry = \n",
      "[[ 2  4]\n",
      " [14 16]]\n"
     ]
    }
   ],
   "source": [
    "d = 2*A\n",
    "print('perkalian antar entry = ')\n",
    "print(d)"
   ]
  },
  {
   "cell_type": "code",
   "execution_count": 24,
   "id": "718266f0",
   "metadata": {},
   "outputs": [
    {
     "name": "stdout",
     "output_type": "stream",
     "text": [
      "[[ 6 20]\n",
      " [14 96]]\n"
     ]
    }
   ],
   "source": [
    "print(B*d)"
   ]
  },
  {
   "cell_type": "code",
   "execution_count": 25,
   "id": "4d34a3e7",
   "metadata": {},
   "outputs": [
    {
     "data": {
      "text/plain": [
       "(array([[3, 5],\n",
       "        [1, 6]]),\n",
       " array([[ 2,  4],\n",
       "        [14, 16]]))"
      ]
     },
     "execution_count": 25,
     "metadata": {},
     "output_type": "execute_result"
    }
   ],
   "source": [
    "B, d"
   ]
  },
  {
   "cell_type": "code",
   "execution_count": 26,
   "id": "9495134c",
   "metadata": {},
   "outputs": [
    {
     "name": "stdout",
     "output_type": "stream",
     "text": [
      "[[ 76  92]\n",
      " [ 86 100]]\n"
     ]
    }
   ],
   "source": [
    "print(np.matmul(B, d))"
   ]
  },
  {
   "cell_type": "code",
   "execution_count": 27,
   "id": "516585f9",
   "metadata": {},
   "outputs": [
    {
     "data": {
      "text/plain": [
       "'1.20.1'"
      ]
     },
     "execution_count": 27,
     "metadata": {},
     "output_type": "execute_result"
    }
   ],
   "source": [
    "np.__version__"
   ]
  },
  {
   "cell_type": "code",
   "execution_count": 28,
   "id": "d7886831",
   "metadata": {},
   "outputs": [],
   "source": [
    "import math"
   ]
  },
  {
   "cell_type": "code",
   "execution_count": 29,
   "id": "1f8dd341",
   "metadata": {},
   "outputs": [
    {
     "data": {
      "text/plain": [
       "2.0"
      ]
     },
     "execution_count": 29,
     "metadata": {},
     "output_type": "execute_result"
    }
   ],
   "source": [
    "math.sqrt(4) # Khusus akar 2"
   ]
  },
  {
   "cell_type": "code",
   "execution_count": 30,
   "id": "a9d1cae0",
   "metadata": {},
   "outputs": [
    {
     "data": {
      "text/plain": [
       "1.6265765616977856"
      ]
     },
     "execution_count": 30,
     "metadata": {},
     "output_type": "execute_result"
    }
   ],
   "source": [
    "7**(1/4) # akar 4 dari 7"
   ]
  },
  {
   "cell_type": "code",
   "execution_count": 31,
   "id": "4dd8fb91",
   "metadata": {},
   "outputs": [
    {
     "data": {
      "text/plain": [
       "2.0"
      ]
     },
     "execution_count": 31,
     "metadata": {},
     "output_type": "execute_result"
    }
   ],
   "source": [
    "8**(1/3) # akar 3 dari 8"
   ]
  },
  {
   "cell_type": "code",
   "execution_count": 32,
   "id": "f036aff5",
   "metadata": {},
   "outputs": [
    {
     "data": {
      "text/plain": [
       "3.0"
      ]
     },
     "execution_count": 32,
     "metadata": {},
     "output_type": "execute_result"
    }
   ],
   "source": [
    "# math.log(a, b):\n",
    "# a : adalah angka yang mau dicari lognya\n",
    "# b : adalah base dari log\n",
    "math.log(8, 2) # 7 log 21"
   ]
  },
  {
   "cell_type": "code",
   "execution_count": 33,
   "id": "b5db6db2",
   "metadata": {},
   "outputs": [
    {
     "data": {
      "text/plain": [
       "1307674368000"
      ]
     },
     "execution_count": 33,
     "metadata": {},
     "output_type": "execute_result"
    }
   ],
   "source": [
    "math.factorial(15)"
   ]
  }
 ],
 "metadata": {
  "kernelspec": {
   "display_name": "Python 3",
   "language": "python",
   "name": "python3"
  },
  "language_info": {
   "codemirror_mode": {
    "name": "ipython",
    "version": 3
   },
   "file_extension": ".py",
   "mimetype": "text/x-python",
   "name": "python",
   "nbconvert_exporter": "python",
   "pygments_lexer": "ipython3",
   "version": "3.8.8"
  }
 },
 "nbformat": 4,
 "nbformat_minor": 5
}
