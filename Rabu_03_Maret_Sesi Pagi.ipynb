{
 "cells": [
  {
   "cell_type": "markdown",
   "id": "1ee95921",
   "metadata": {},
   "source": [
    "## Soal FGD Rabu Sesi Pagi"
   ]
  },
  {
   "cell_type": "markdown",
   "id": "5df6a6f9",
   "metadata": {},
   "source": [
    "#### 1. \n",
    "1. b and c = False\n",
    "2. b or c = True\n",
    "3. not a and b = True\n",
    "4. (a and b) or not c = True\n",
    "5. not b and not(a or c) = False"
   ]
  },
  {
   "cell_type": "markdown",
   "id": "b8f10a96",
   "metadata": {},
   "source": [
    "### 2. "
   ]
  },
  {
   "cell_type": "code",
   "execution_count": 3,
   "id": "2855d1f3",
   "metadata": {},
   "outputs": [
    {
     "name": "stdout",
     "output_type": "stream",
     "text": [
      "Hello!\n",
      "Enter something: Andriansyah\n",
      "You entered: Andriansyah\n"
     ]
    }
   ],
   "source": [
    "print('Hello!')\n",
    "enter = input('Enter something: ')\n",
    "print('You entered:', enter)"
   ]
  },
  {
   "cell_type": "markdown",
   "id": "656db89a",
   "metadata": {},
   "source": [
    "### 3. "
   ]
  },
  {
   "cell_type": "code",
   "execution_count": 4,
   "id": "0440b62d",
   "metadata": {},
   "outputs": [
    {
     "name": "stdout",
     "output_type": "stream",
     "text": [
      "Hello!\n",
      "Enter something: hello\n",
      "Hello for you too!\n"
     ]
    }
   ],
   "source": [
    "print('Hello!')\n",
    "enter = input('Enter something: ')\n",
    "if enter == 'hello':\n",
    "    print('Hello for you too!')\n",
    "elif enter == 'hi':\n",
    "    print('Hi there!')\n",
    "else:\n",
    "    print(\"I don't know what,\", enter, \"means.\")"
   ]
  },
  {
   "cell_type": "markdown",
   "id": "faa4dbe6",
   "metadata": {},
   "source": [
    "### 4."
   ]
  },
  {
   "cell_type": "code",
   "execution_count": 5,
   "id": "1717d32d",
   "metadata": {},
   "outputs": [
    {
     "name": "stdout",
     "output_type": "stream",
     "text": [
      "halo hai\n",
      "halo hai\n",
      "halo hai\n",
      "halo hai\n",
      "halo hai\n",
      "halo hai\n",
      "halo hai\n",
      "halo hai\n",
      "halo hai\n",
      "halo hai\n",
      "halo hai\n",
      "halo hai\n",
      "halo hai\n",
      "halo hai\n",
      "halo hai\n",
      "halo hai\n",
      "halo hai\n",
      "halo hai\n",
      "halo hai\n",
      "halo hai\n",
      "halo hai\n",
      "halo hai\n",
      "halo hai\n",
      "halo hai\n",
      "halo hai\n",
      "halo hai\n",
      "halo hai\n",
      "halo hai\n",
      "halo hai\n",
      "halo hai\n",
      "halo hai\n",
      "halo hai\n",
      "halo hai\n",
      "halo hai\n",
      "halo hai\n",
      "halo hai\n",
      "halo hai\n",
      "halo hai\n",
      "halo hai\n",
      "halo hai\n",
      "halo hai\n",
      "halo hai\n",
      "halo hai\n",
      "halo hai\n",
      "halo hai\n",
      "halo hai\n",
      "halo hai\n",
      "halo hai\n",
      "halo hai\n",
      "halo hai\n",
      "halo hai\n",
      "halo hai\n",
      "halo hai\n",
      "halo hai\n",
      "halo hai\n",
      "halo hai\n",
      "halo hai\n",
      "halo hai\n",
      "halo hai\n",
      "halo hai\n",
      "halo hai\n",
      "halo hai\n",
      "halo hai\n",
      "halo hai\n",
      "halo hai\n",
      "halo hai\n",
      "halo hai\n",
      "halo hai\n",
      "halo hai\n",
      "halo hai\n",
      "halo hai\n",
      "halo hai\n",
      "halo hai\n",
      "halo hai\n",
      "halo hai\n",
      "halo hai\n",
      "halo hai\n",
      "halo hai\n",
      "halo hai\n",
      "halo hai\n",
      "halo hai\n",
      "halo hai\n",
      "halo hai\n",
      "halo hai\n",
      "halo hai\n",
      "halo hai\n",
      "halo hai\n",
      "halo hai\n",
      "halo hai\n",
      "halo hai\n",
      "halo hai\n",
      "halo hai\n",
      "halo hai\n",
      "halo hai\n",
      "halo hai\n",
      "halo hai\n",
      "halo hai\n",
      "halo hai\n",
      "halo hai\n",
      "halo hai\n"
     ]
    }
   ],
   "source": [
    "for i in range(0,100):\n",
    "    print(\"halo hai\")"
   ]
  },
  {
   "cell_type": "markdown",
   "id": "1fd93763",
   "metadata": {},
   "source": [
    "### 5."
   ]
  },
  {
   "cell_type": "code",
   "execution_count": 6,
   "id": "05fba442",
   "metadata": {},
   "outputs": [
    {
     "name": "stdout",
     "output_type": "stream",
     "text": [
      "Player1? gunting\n",
      "Player2? kertas\n",
      "Player 1 wins!\n"
     ]
    }
   ],
   "source": [
    "apaja = input('Player1? ')\n",
    "apaja2 = input('Player2? ')\n",
    "\n",
    "if(apaja == 'gunting' and apaja2 == 'gunting'):\n",
    "    print(\"Seri!\")\n",
    "elif(apaja == 'gunting' and apaja2 == 'kertas'):\n",
    "    print(\"Player 1 wins!\")\n",
    "elif(apaja == 'kertas' and apaja2 == 'gunting'):\n",
    "    print(\"Player 2 wins!\")\n",
    "elif(apaja == 'batu' and apaja2 == 'gunting'):\n",
    "    print(\"Player 1 wins!\")\n",
    "elif(apaja == 'gunting' and apaja2 == 'batu'):\n",
    "    print(\"Player 2 wins!\")\n",
    "elif(apaja == 'gunting' and apaja2 == 'kertas'):\n",
    "    print(\"Player 1 wins!\")\n",
    "elif(apaja == 'kertas' and apaja2 == 'kertas'):\n",
    "    print(\"Player 1 wins!\")\n",
    "elif(apaja == 'batu' and apaja2 == 'batu'):\n",
    "    print(\"Player 1 wins!\")\n",
    "else:\n",
    "    print(\"Input tidak valid!\")"
   ]
  },
  {
   "cell_type": "markdown",
   "id": "a513747e",
   "metadata": {},
   "source": [
    "### 6."
   ]
  },
  {
   "cell_type": "code",
   "execution_count": 7,
   "id": "0e55226b",
   "metadata": {},
   "outputs": [
    {
     "name": "stdout",
     "output_type": "stream",
     "text": [
      "Masukkan input: nama\n",
      "Masukkan input: saya\n",
      "Masukkan input: Andriansyah\n",
      "Masukkan input: berhenti\n"
     ]
    }
   ],
   "source": [
    "\n",
    "while(True):\n",
    "    masuk = input(\"Masukkan input: \")\n",
    "    if(masuk == 'berhenti'):\n",
    "        break\n",
    "        "
   ]
  },
  {
   "cell_type": "code",
   "execution_count": 8,
   "id": "522f8975",
   "metadata": {},
   "outputs": [
    {
     "name": "stdout",
     "output_type": "stream",
     "text": [
      "MENU JAJANAN PASAR\n",
      "1  Donat - Rp 1250\n",
      "2  Bakwan - Rp 1000\n",
      "3 Onde-onde Rp 800\n",
      "4 Lemper - Rp 1250\n",
      "5 Risol - Rp 1500\n",
      "Input User: 2\n",
      "Kamu memesan Bakwan dengan harga Rp 1000, terima kasih sudah berbelanja!\n",
      "Input User: 3\n",
      "Kamu memesan Onde-onde dengan harga Rp 800, terima kasih sudah berbelanja!\n",
      "Input User: cukup\n",
      "Terima kasih sudah berbelanja jajanan pasar kami!\n"
     ]
    }
   ],
   "source": [
    "print(\"MENU JAJANAN PASAR\")\n",
    "\n",
    "#list1 = [\"Donat\", \"Bakwan\", \"Onde-onde\", \"Lemper\", \"Risol\"]\n",
    "#list2 = [1250, 1000, 800, 1250, 1500]\n",
    "list1 = ['1', '2', '3', '4', '5']\n",
    "\n",
    "#print(\"1. \", list1[0], \"- Rp\", list2[0])\n",
    "#print(\"2. \", list1[1], \"- Rp\", list2[1])\n",
    "#print(\"3. \", list1[2], \"- Rp\", list2[2])\n",
    "#print(\"4. \", list1[3], \"- Rp\", list2[3])\n",
    "#print(\"5. \", list1[4], \"- Rp\", list2[4])\n",
    "print(list1[0], \" Donat - Rp 1250\")\n",
    "print(list1[1], \" Bakwan - Rp 1000\")\n",
    "print(list1[2], \"Onde-onde Rp 800\")\n",
    "print(list1[3], \"Lemper - Rp 1250\")\n",
    "print(list1[4], \"Risol - Rp 1500\")\n",
    "\n",
    "while(True):\n",
    "    user = input(\"Input User: \")\n",
    "    if(user == list1[0]):\n",
    "        print(\"Kamu memesan Donat dengan harga Rp 1250, terima kasih sudah berbelanja!\")\n",
    "    elif(user == list1[1]):\n",
    "        print(\"Kamu memesan Bakwan dengan harga Rp 1000, terima kasih sudah berbelanja!\")\n",
    "    elif(user == list1[2]):\n",
    "        print(\"Kamu memesan Onde-onde dengan harga Rp 800, terima kasih sudah berbelanja!\")\n",
    "    elif(user == list1[3]):\n",
    "        print(\"Kamu memesan Lemper dengan harga Rp 1250, terima kasih sudah berbelanja!\")\n",
    "    elif(user == list1[4]):\n",
    "        print(\"Kamu memesan Risol dengan harga Rp 1500, terima kasih sudah berbelanja!\")\n",
    "    elif(user == 'cukup'):\n",
    "        print(\"Terima kasih sudah berbelanja jajanan pasar kami!\")\n",
    "        break"
   ]
  },
  {
   "cell_type": "markdown",
   "id": "db10c780",
   "metadata": {},
   "source": [
    "### 8."
   ]
  },
  {
   "cell_type": "code",
   "execution_count": 5,
   "id": "db9a1299",
   "metadata": {},
   "outputs": [
    {
     "name": "stdout",
     "output_type": "stream",
     "text": [
      "MENU JAJANAN PASAR\n",
      "1  Donat - Rp 1250\n",
      "2  Bakwan - Rp 1000\n",
      "3 Onde-onde Rp 800\n",
      "4 Lemper - Rp 1250\n",
      "5 Risol - Rp 1500\n",
      "Input User: \n",
      "Input User: 2\n",
      "Masukkan berapa banyak kamu ingin beli? 5\n",
      "Kamu memesan Bakwan dengan harga Rp 5000 terima kasih sudah berbelanja!\n"
     ]
    }
   ],
   "source": [
    "print(\"MENU JAJANAN PASAR\")\n",
    "\n",
    "#list1 = [\"Donat\", \"Bakwan\", \"Onde-onde\", \"Lemper\", \"Risol\"]\n",
    "list2 = [1250, 1000, 800, 1250, 1500]\n",
    "list1 = ['1', '2', '3', '4', '5']\n",
    "\n",
    "#print(\"1. \", list1[0], \"- Rp\", list2[0])\n",
    "#print(\"2. \", list1[1], \"- Rp\", list2[1])\n",
    "#print(\"3. \", list1[2], \"- Rp\", list2[2])\n",
    "#print(\"4. \", list1[3], \"- Rp\", list2[3])\n",
    "#print(\"5. \", list1[4], \"- Rp\", list2[4])\n",
    "print(list1[0], \" Donat - Rp\", list2[0])\n",
    "print(list1[1], \" Bakwan - Rp\", list2[1])\n",
    "print(list1[2], \"Onde-onde Rp\", list2[2])\n",
    "print(list1[3], \"Lemper - Rp\", list2[3])\n",
    "print(list1[4], \"Risol - Rp\", list2[4])\n",
    "\n",
    "while(True):\n",
    "    user = input(\"Input User: \")\n",
    "    if(user == list1[0]):\n",
    "        print(\"Kamu memesan Donat dengan harga Rp 1250, terima kasih sudah berbelanja!\")\n",
    "    elif(user == list1[1]):\n",
    "        harga = int(input(\"Masukkan berapa banyak kamu ingin beli? \"))\n",
    "        total = harga *list2[1]\n",
    "        print(\"Kamu memesan Bakwan dengan harga Rp\", total, \"terima kasih sudah berbelanja!\")\n",
    "        break\n",
    "    elif(user == list1[2]):\n",
    "        print(\"Kamu memesan Onde-onde dengan harga Rp 800, terima kasih sudah berbelanja!\")\n",
    "    elif(user == list1[3]):\n",
    "        print(\"Kamu memesan Lemper dengan harga Rp 1250, terima kasih sudah berbelanja!\")\n",
    "    elif(user == list1[4]):\n",
    "        print(\"Kamu memesan Risol dengan harga Rp 1500, terima kasih sudah berbelanja!\")\n",
    "    elif(user == 'cukup'):\n",
    "        print(\"Terima kasih sudah berbelanja jajanan pasar kami!\")\n",
    "        break"
   ]
  },
  {
   "cell_type": "code",
   "execution_count": null,
   "id": "ba2bbe64",
   "metadata": {},
   "outputs": [],
   "source": []
  }
 ],
 "metadata": {
  "kernelspec": {
   "display_name": "Python 3",
   "language": "python",
   "name": "python3"
  },
  "language_info": {
   "codemirror_mode": {
    "name": "ipython",
    "version": 3
   },
   "file_extension": ".py",
   "mimetype": "text/x-python",
   "name": "python",
   "nbconvert_exporter": "python",
   "pygments_lexer": "ipython3",
   "version": "3.8.8"
  }
 },
 "nbformat": 4,
 "nbformat_minor": 5
}
