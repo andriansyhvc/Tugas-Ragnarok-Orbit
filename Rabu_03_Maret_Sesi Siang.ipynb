{
 "cells": [
  {
   "cell_type": "markdown",
   "id": "21efbd97",
   "metadata": {},
   "source": [
    "## Nama : Andriansyah\n",
    "## NPM : 1402019016\n",
    "## Universitas Yarsi"
   ]
  },
  {
   "cell_type": "markdown",
   "id": "1434a74f",
   "metadata": {},
   "source": [
    "### Soal No. 1"
   ]
  },
  {
   "cell_type": "code",
   "execution_count": 1,
   "id": "d7eba7b3",
   "metadata": {},
   "outputs": [],
   "source": [
    "def metode(params):\n",
    "    if(params % 2 == 0):\n",
    "        return True\n",
    "    else:\n",
    "        return False"
   ]
  },
  {
   "cell_type": "code",
   "execution_count": 2,
   "id": "8c78dc9e",
   "metadata": {},
   "outputs": [],
   "source": [
    "listKu = [2,4,5,6,8,7,9,11,12,13,15]\n",
    "\n",
    "nilai = map(metode, listKu)"
   ]
  },
  {
   "cell_type": "code",
   "execution_count": 3,
   "id": "bfe829a7",
   "metadata": {},
   "outputs": [
    {
     "name": "stdout",
     "output_type": "stream",
     "text": [
      "True\n",
      "True\n",
      "False\n",
      "True\n",
      "True\n",
      "False\n",
      "False\n",
      "False\n",
      "True\n",
      "False\n",
      "False\n"
     ]
    }
   ],
   "source": [
    "for ulang in nilai:\n",
    "    print(ulang)"
   ]
  },
  {
   "cell_type": "markdown",
   "id": "95185e8b",
   "metadata": {},
   "source": [
    "### Soal No. 2"
   ]
  },
  {
   "cell_type": "code",
   "execution_count": 4,
   "id": "16926a12",
   "metadata": {},
   "outputs": [],
   "source": [
    "def menu():\n",
    "    list1 = [1,2,3]\n",
    "    print(\">>> menu()\")\n",
    "    print(list1[0], \" Soup and salad\")\n",
    "    print(list1[1], \" Pasta with meat sauce\")\n",
    "    print(list1[2], \" Chef's special\")\n",
    "    pilih = int(input(\"Which number would you like to order? \"))\n",
    "    \n",
    "    if (pilih == 1):\n",
    "        print(\"One Soup and salah coming right up!\")\n",
    "    elif (pilih == 2):\n",
    "        print(\"Pasta and with meat sauce coming right up!\")\n",
    "    elif (pilih == 3):\n",
    "        print(\"Chef's special coming right up!\")\n",
    "    else:\n",
    "        print(\"Sorry, that is not a valid choice.\")\n",
    "    "
   ]
  },
  {
   "cell_type": "code",
   "execution_count": 8,
   "id": "cb5d79eb",
   "metadata": {},
   "outputs": [
    {
     "name": "stdout",
     "output_type": "stream",
     "text": [
      ">>> menu()\n",
      "1  Soup and salad\n",
      "2  Pasta with meat sauce\n",
      "3  Chef's special\n",
      "Which number would you like to order? 4\n",
      "Sorry, that is not a valid choice.\n"
     ]
    }
   ],
   "source": [
    "menu()"
   ]
  },
  {
   "cell_type": "markdown",
   "id": "ad11bcc4",
   "metadata": {},
   "source": [
    "### No. 3"
   ]
  },
  {
   "cell_type": "code",
   "execution_count": 43,
   "id": "99b1a7cf",
   "metadata": {},
   "outputs": [
    {
     "name": "stdout",
     "output_type": "stream",
     "text": [
      "Masukkan angka: 6\n"
     ]
    },
    {
     "data": {
      "text/plain": [
       "True"
      ]
     },
     "execution_count": 43,
     "metadata": {},
     "output_type": "execute_result"
    }
   ],
   "source": [
    "def hayuk():\n",
    "    bil = int(input(\"Masukkan angka: \"))\n",
    "    if(bil % 3 == 0):\n",
    "        return True\n",
    "    else:\n",
    "        return False\n",
    "    \n",
    "hayuk()"
   ]
  },
  {
   "cell_type": "markdown",
   "id": "8f0abb99",
   "metadata": {},
   "source": [
    "### Soal No. 4"
   ]
  },
  {
   "cell_type": "code",
   "execution_count": 6,
   "id": "d11394ee",
   "metadata": {},
   "outputs": [],
   "source": [
    "def gas():\n",
    "    bil1 = 5\n",
    "    bil2 = 10\n",
    "    if( bil1 is not bil2):\n",
    "        return True\n",
    "    else:\n",
    "        return False"
   ]
  },
  {
   "cell_type": "code",
   "execution_count": 7,
   "id": "b427b8de",
   "metadata": {},
   "outputs": [
    {
     "data": {
      "text/plain": [
       "True"
      ]
     },
     "execution_count": 7,
     "metadata": {},
     "output_type": "execute_result"
    }
   ],
   "source": [
    "gas()"
   ]
  },
  {
   "cell_type": "markdown",
   "id": "11544874",
   "metadata": {},
   "source": [
    "### Soal No. 5"
   ]
  },
  {
   "cell_type": "code",
   "execution_count": 10,
   "id": "59a5106b",
   "metadata": {},
   "outputs": [
    {
     "name": "stdout",
     "output_type": "stream",
     "text": [
      "Enter your name: Andriansyah\n",
      "Your name is Andriansyah\n"
     ]
    }
   ],
   "source": [
    "def ask2():\n",
    "    name = input(\"Enter your name: \")\n",
    "    print(\"Your name is \" + name)\n",
    "\n",
    "ask2()"
   ]
  },
  {
   "cell_type": "code",
   "execution_count": null,
   "id": "7e49d46f",
   "metadata": {},
   "outputs": [],
   "source": []
  }
 ],
 "metadata": {
  "kernelspec": {
   "display_name": "Python 3",
   "language": "python",
   "name": "python3"
  },
  "language_info": {
   "codemirror_mode": {
    "name": "ipython",
    "version": 3
   },
   "file_extension": ".py",
   "mimetype": "text/x-python",
   "name": "python",
   "nbconvert_exporter": "python",
   "pygments_lexer": "ipython3",
   "version": "3.8.8"
  }
 },
 "nbformat": 4,
 "nbformat_minor": 5
}
