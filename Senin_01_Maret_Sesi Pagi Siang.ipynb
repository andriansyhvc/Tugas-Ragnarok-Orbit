{
 "cells": [
  {
   "cell_type": "markdown",
   "id": "2b9c33b2",
   "metadata": {},
   "source": [
    "### Nama : Andriansyah\n",
    "### NPM   : 1402019016 \n",
    "### Universitas Yarsi"
   ]
  },
  {
   "cell_type": "markdown",
   "id": "fa53b67d",
   "metadata": {},
   "source": [
    "# 1. Tugas Sesi Pagi"
   ]
  },
  {
   "cell_type": "code",
   "execution_count": 17,
   "id": "d2ccef3c",
   "metadata": {},
   "outputs": [
    {
     "name": "stdout",
     "output_type": "stream",
     "text": [
      "Hello World!\n"
     ]
    }
   ],
   "source": [
    "print(\"Hello World!\") # As usual with any language we start with the print function"
   ]
  },
  {
   "cell_type": "code",
   "execution_count": 2,
   "id": "fdf1d483",
   "metadata": {},
   "outputs": [
    {
     "name": "stdout",
     "output_type": "stream",
     "text": [
      "hello\n",
      "\n",
      "This is also a string\n"
     ]
    }
   ],
   "source": [
    "# single word\n",
    "print('hello')\n",
    "\n",
    "print() # used to have a line space between two sentences. Try deleting this line & seeing the difference\n",
    "\n",
    "# entire phrase \n",
    "print('This is also a string')"
   ]
  },
  {
   "cell_type": "code",
   "execution_count": 3,
   "id": "5185109a",
   "metadata": {},
   "outputs": [
    {
     "name": "stdout",
     "output_type": "stream",
     "text": [
      "New york\n",
      "<class 'str'>\n",
      "8\n"
     ]
    }
   ],
   "source": [
    "s = 'New york'\n",
    "print(s)\n",
    "print(type(s))\n",
    "print(len(s)) # what's the string length"
   ]
  },
  {
   "cell_type": "code",
   "execution_count": 4,
   "id": "52d6e336",
   "metadata": {},
   "outputs": [
    {
     "name": "stdout",
     "output_type": "stream",
     "text": [
      "Hello World\n",
      "\n",
      "H\n",
      "\n",
      "e\n"
     ]
    }
   ],
   "source": [
    "# Assign s as a string\n",
    "s = 'Hello World'\n",
    "\n",
    "# Print the object\n",
    "print(s)\n",
    "\n",
    "print()\n",
    "\n",
    "# Show first element (in this case a letter)\n",
    "print(s[0])\n",
    "\n",
    "print()\n",
    "\n",
    "# Show the second elemnt (also a letter)\n",
    "print(s[1])"
   ]
  },
  {
   "cell_type": "code",
   "execution_count": 5,
   "id": "4a93d944",
   "metadata": {},
   "outputs": [
    {
     "name": "stdout",
     "output_type": "stream",
     "text": [
      "Hello World\n"
     ]
    }
   ],
   "source": [
    "# concatenation (addition)\n",
    "s1 = 'Hello'\n",
    "s2 = 'World'\n",
    "print(s1 +\" \" +s2)"
   ]
  },
  {
   "cell_type": "code",
   "execution_count": 6,
   "id": "edd3d5ad",
   "metadata": {},
   "outputs": [
    {
     "name": "stdout",
     "output_type": "stream",
     "text": [
      "Hello_Hello_Hello_\n",
      "----------\n"
     ]
    }
   ],
   "source": [
    "# repetition (multiplication)\n",
    "\n",
    "print(\"Hello_\" *3)\n",
    "print(\"-\" *10)"
   ]
  },
  {
   "cell_type": "code",
   "execution_count": 8,
   "id": "f1a7f3d2",
   "metadata": {},
   "outputs": [
    {
     "name": "stdout",
     "output_type": "stream",
     "text": [
      "a\n",
      "e Wor\n",
      "Worl\n",
      "True\n"
     ]
    }
   ],
   "source": [
    "s = \"Namaste World\"\n",
    "\n",
    "# print sub strings\n",
    "print(s[1]) # This is indexing\n",
    "print(s[6:11]) # This is known as scaling\n",
    "print(s[-5:-1])\n",
    "\n",
    "# test substring membership\n",
    "print(\"Wor\" in s)"
   ]
  },
  {
   "cell_type": "code",
   "execution_count": 9,
   "id": "3b622c48",
   "metadata": {},
   "outputs": [
    {
     "name": "stdout",
     "output_type": "stream",
     "text": [
      "HELLO WORLD\n",
      "hello world\n"
     ]
    }
   ],
   "source": [
    "s = \"Hello World\"\n",
    "\n",
    "print(s.upper()) # convert all the element of the string to Upper case..!!\n",
    "print(s.lower()) # convert all the element of the string to lower case..!!"
   ]
  },
  {
   "cell_type": "code",
   "execution_count": 10,
   "id": "1bf42bc7",
   "metadata": {},
   "outputs": [
    {
     "name": "stdout",
     "output_type": "stream",
     "text": [
      "My name is Einstein, my age is 22, and it is True that I am married\n",
      "My name is Einstein, my age is 22, and it is True that I am married\n"
     ]
    }
   ],
   "source": [
    "name = \"Einstein\"\n",
    "age = 22\n",
    "married = True\n",
    "\n",
    "print(\"My name is %s, my age is %s, and it is %s that I am married\" % (name, age, married))\n",
    "print(\"My name is {}, my age is {}, and it is {} that I am married\".format(name, age, married))"
   ]
  },
  {
   "cell_type": "markdown",
   "id": "80aabf73",
   "metadata": {},
   "source": [
    "## Basic Arithmetic"
   ]
  },
  {
   "cell_type": "code",
   "execution_count": 11,
   "id": "8e7a194d",
   "metadata": {},
   "outputs": [
    {
     "name": "stdout",
     "output_type": "stream",
     "text": [
      "3\n",
      "1\n",
      "4\n",
      "1.5\n"
     ]
    }
   ],
   "source": [
    "# Addition\n",
    "print(2+1)\n",
    "\n",
    "# Subtraction\n",
    "print(2-1)\n",
    "\n",
    "# Multiplication\n",
    "print(2*2)\n",
    "\n",
    "# Division\n",
    "print(3/2)"
   ]
  },
  {
   "cell_type": "markdown",
   "id": "91f99b9d",
   "metadata": {},
   "source": [
    "## Arithmetic Continued"
   ]
  },
  {
   "cell_type": "code",
   "execution_count": 12,
   "id": "5f9457c0",
   "metadata": {},
   "outputs": [
    {
     "data": {
      "text/plain": [
       "8"
      ]
     },
     "execution_count": 12,
     "metadata": {},
     "output_type": "execute_result"
    }
   ],
   "source": [
    "# Powers\n",
    "2**3"
   ]
  },
  {
   "cell_type": "code",
   "execution_count": 13,
   "id": "8559e2d8",
   "metadata": {},
   "outputs": [
    {
     "data": {
      "text/plain": [
       "105"
      ]
     },
     "execution_count": 13,
     "metadata": {},
     "output_type": "execute_result"
    }
   ],
   "source": [
    "# Order of Operations followed in Python\n",
    "2 + 10 * 10 + 3"
   ]
  },
  {
   "cell_type": "code",
   "execution_count": 14,
   "id": "b82087ca",
   "metadata": {},
   "outputs": [
    {
     "data": {
      "text/plain": [
       "156"
      ]
     },
     "execution_count": 14,
     "metadata": {},
     "output_type": "execute_result"
    }
   ],
   "source": [
    "# Can use parenthesis to specify orders\n",
    "(2+10) * (10+3)"
   ]
  },
  {
   "cell_type": "code",
   "execution_count": 15,
   "id": "c3a2d35a",
   "metadata": {},
   "outputs": [
    {
     "data": {
      "text/plain": [
       "10"
      ]
     },
     "execution_count": 15,
     "metadata": {},
     "output_type": "execute_result"
    }
   ],
   "source": [
    "# Let's create an object called \"a\" and assign it the number 5\n",
    "a = 5\n",
    "\n",
    "# Adding the objects\n",
    "a+a"
   ]
  },
  {
   "cell_type": "code",
   "execution_count": null,
   "id": "b1d39463",
   "metadata": {},
   "outputs": [],
   "source": [
    "# Reassignment\n",
    "a = 10\n",
    "\n",
    "# Check\n",
    "a"
   ]
  },
  {
   "cell_type": "markdown",
   "id": "4b4c6b99",
   "metadata": {},
   "source": [
    "# 2. Tugas Sesi Siang"
   ]
  },
  {
   "cell_type": "markdown",
   "id": "33885af6",
   "metadata": {},
   "source": [
    "### Identifying Data Types"
   ]
  },
  {
   "cell_type": "code",
   "execution_count": 18,
   "id": "d620ae25",
   "metadata": {},
   "outputs": [
    {
     "name": "stdout",
     "output_type": "stream",
     "text": [
      "<class 'int'>\n",
      "<class 'float'>\n"
     ]
    }
   ],
   "source": [
    "a = 42\n",
    "b = 32.30\n",
    "\n",
    "print(type(a))#gets type of a\n",
    "print(type(b))#gets type of b"
   ]
  },
  {
   "cell_type": "markdown",
   "id": "81a914ec",
   "metadata": {},
   "source": [
    "### List"
   ]
  },
  {
   "cell_type": "code",
   "execution_count": 20,
   "id": "64388034",
   "metadata": {},
   "outputs": [],
   "source": [
    "# Assign a list to an variable named my_list\n",
    "my_list = [1,2,3]\n",
    "\n",
    "my_list = ['A string',23,100.232,'o']"
   ]
  },
  {
   "cell_type": "code",
   "execution_count": 21,
   "id": "dc656519",
   "metadata": {},
   "outputs": [
    {
     "data": {
      "text/plain": [
       "4"
      ]
     },
     "execution_count": 21,
     "metadata": {},
     "output_type": "execute_result"
    }
   ],
   "source": [
    "len(my_list)"
   ]
  },
  {
   "cell_type": "markdown",
   "id": "086b3626",
   "metadata": {},
   "source": [
    "### Adding New Elements to a list"
   ]
  },
  {
   "cell_type": "code",
   "execution_count": null,
   "id": "1dba01ab",
   "metadata": {},
   "outputs": [],
   "source": [
    "my_list = ['one','two','three',4,5]"
   ]
  },
  {
   "cell_type": "code",
   "execution_count": 22,
   "id": "23b0ec2c",
   "metadata": {},
   "outputs": [
    {
     "name": "stdout",
     "output_type": "stream",
     "text": [
      "[1, 2.3, ['a', 'b'], 'New York', 3.1]\n"
     ]
    }
   ],
   "source": [
    "# append a value to the end of the list\n",
    "l = [1, 2.3, ['a', 'b'], 'New York']\n",
    "l.append(3.1)\n",
    "print(l)"
   ]
  },
  {
   "cell_type": "code",
   "execution_count": 23,
   "id": "18d9efbc",
   "metadata": {},
   "outputs": [
    {
     "name": "stdout",
     "output_type": "stream",
     "text": [
      "[1, 2, 3, 4, 5, 6]\n"
     ]
    }
   ],
   "source": [
    "# extend a list with another list. \n",
    "l = [1, 2, 3]\n",
    "l.extend([4, 5, 6])\n",
    "print(l)"
   ]
  },
  {
   "cell_type": "markdown",
   "id": "24e7fc0a",
   "metadata": {},
   "source": [
    "### Slicing"
   ]
  },
  {
   "cell_type": "code",
   "execution_count": 27,
   "id": "f310ea09",
   "metadata": {},
   "outputs": [
    {
     "name": "stdout",
     "output_type": "stream",
     "text": [
      "[0, 1, 2, 3, 4, 5, 6, 7, 8, 9]\n",
      "elements from index 4 to 7: [4, 5, 6]\n",
      "alternate elements, starting at index 0: [0, 2, 4, 6, 8]\n",
      "every third element, starting at index 1: [1, 4, 7]\n"
     ]
    }
   ],
   "source": [
    "lst = list(range(10)) # create a list containing 10 numbers starting from 0 \n",
    "print(lst)\n",
    "\n",
    "print(\"elements from index 4 to 7:\", lst[4:7])\n",
    "print(\"alternate elements, starting at index 0:\", lst[0::2])\n",
    "# prints elements from index 0 till last index with a step of 2\n",
    "\n",
    "print(\"every third element, starting at index 1:\", lst[1::3]) \n",
    "# prints elements from index 1 till last index with a step of 3"
   ]
  },
  {
   "cell_type": "markdown",
   "id": "c1f885da",
   "metadata": {},
   "source": [
    "### Constructing a Dictionary"
   ]
  },
  {
   "cell_type": "code",
   "execution_count": 29,
   "id": "ff609441",
   "metadata": {},
   "outputs": [],
   "source": [
    "# Make a dictionary with {} and : to signify a key and a value\n",
    "my_dict = {'key1':'value1','key2':'value2'}"
   ]
  },
  {
   "cell_type": "code",
   "execution_count": 30,
   "id": "40e3aa2d",
   "metadata": {},
   "outputs": [
    {
     "data": {
      "text/plain": [
       "'value2'"
      ]
     },
     "execution_count": 30,
     "metadata": {},
     "output_type": "execute_result"
    }
   ],
   "source": [
    "# Call values by their key\n",
    "my_dict['key2']"
   ]
  },
  {
   "cell_type": "code",
   "execution_count": 31,
   "id": "f4549f55",
   "metadata": {},
   "outputs": [
    {
     "data": {
      "text/plain": [
       "{'key1': 123, 'key2': 'value2'}"
      ]
     },
     "execution_count": 31,
     "metadata": {},
     "output_type": "execute_result"
    }
   ],
   "source": [
    "my_dict['key1']=123\n",
    "my_dict"
   ]
  },
  {
   "cell_type": "code",
   "execution_count": 34,
   "id": "13fbb2ae",
   "metadata": {},
   "outputs": [
    {
     "data": {
      "text/plain": [
       "0"
      ]
     },
     "execution_count": 34,
     "metadata": {},
     "output_type": "execute_result"
    }
   ],
   "source": [
    "my_dict['key1']=123\n",
    "my_dict\n",
    "\n",
    "# Subtract 123 from the value\n",
    "my_dict['key1'] = my_dict['key1'] - 123\n",
    "\n",
    "#Check\n",
    "my_dict['key1']"
   ]
  },
  {
   "cell_type": "code",
   "execution_count": 35,
   "id": "e2328025",
   "metadata": {},
   "outputs": [
    {
     "data": {
      "text/plain": [
       "-123"
      ]
     },
     "execution_count": 35,
     "metadata": {},
     "output_type": "execute_result"
    }
   ],
   "source": [
    "# Set the object equal to itself minus 123 \n",
    "my_dict['key1'] -= 123\n",
    "my_dict['key1']"
   ]
  },
  {
   "cell_type": "code",
   "execution_count": 37,
   "id": "1870f1a4",
   "metadata": {},
   "outputs": [],
   "source": [
    "# Create a new dictionary\n",
    "d = {}\n",
    "# Create a new key through assignment\n",
    "d['animal'] = 'Dog'"
   ]
  },
  {
   "cell_type": "markdown",
   "id": "b11b40d9",
   "metadata": {},
   "source": [
    "### Sets"
   ]
  },
  {
   "cell_type": "code",
   "execution_count": 39,
   "id": "5b9bf0ee",
   "metadata": {},
   "outputs": [
    {
     "data": {
      "text/plain": [
       "{1}"
      ]
     },
     "execution_count": 39,
     "metadata": {},
     "output_type": "execute_result"
    }
   ],
   "source": [
    "x = set()\n",
    "\n",
    "# We add to sets with the add() method\n",
    "x.add(1)\n",
    "\n",
    "#Show\n",
    "x"
   ]
  },
  {
   "cell_type": "code",
   "execution_count": 42,
   "id": "df23c16e",
   "metadata": {},
   "outputs": [
    {
     "data": {
      "text/plain": [
       "{1, 2}"
      ]
     },
     "execution_count": 42,
     "metadata": {},
     "output_type": "execute_result"
    }
   ],
   "source": [
    "# Add a different element\n",
    "x.add(2)\n",
    "\n",
    "#Show\n",
    "x\n",
    "\n",
    "# Try to add the same element\n",
    "x.add(1)\n",
    "\n",
    "#Show\n",
    "x"
   ]
  },
  {
   "cell_type": "code",
   "execution_count": 43,
   "id": "dd4e28ee",
   "metadata": {},
   "outputs": [
    {
     "data": {
      "text/plain": [
       "{1, 2, 3, 4, 5, 6}"
      ]
     },
     "execution_count": 43,
     "metadata": {},
     "output_type": "execute_result"
    }
   ],
   "source": [
    "# Create a list with repeats\n",
    "l = [1,1,2,2,3,4,5,6,1,1]\n",
    "\n",
    "# Cast as set to get unique values\n",
    "set(l)"
   ]
  }
 ],
 "metadata": {
  "kernelspec": {
   "display_name": "Python 3",
   "language": "python",
   "name": "python3"
  },
  "language_info": {
   "codemirror_mode": {
    "name": "ipython",
    "version": 3
   },
   "file_extension": ".py",
   "mimetype": "text/x-python",
   "name": "python",
   "nbconvert_exporter": "python",
   "pygments_lexer": "ipython3",
   "version": "3.8.8"
  }
 },
 "nbformat": 4,
 "nbformat_minor": 5
}
