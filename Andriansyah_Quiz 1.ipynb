{
 "cells": [
  {
   "cell_type": "markdown",
   "id": "b90f8a08",
   "metadata": {},
   "source": [
    "# Nama : Andriansyah\n",
    "# NPM: 1402019016\n",
    "# Universitas Yarsi"
   ]
  },
  {
   "cell_type": "markdown",
   "id": "4f6db717",
   "metadata": {},
   "source": [
    "## Python OOP"
   ]
  },
  {
   "cell_type": "markdown",
   "id": "4d3f16c1",
   "metadata": {},
   "source": [
    "#### 1. Apa itu OOP dan cobalah buat 2 implementasi konsep OOP menggunakan Python\n",
    "Jawaban : OOP atau Object Oriented Programming adalah suatu paradigma pemrograman yang berorientasi pada konsep kelas(class) dan Objek (object ), konsep ini sering digunakan dalam menyusun program menjadi kode program yang lebih simpel dan juga dapat digunakan kembali"
   ]
  },
  {
   "cell_type": "code",
   "execution_count": 2,
   "id": "29f7dd5d",
   "metadata": {},
   "outputs": [],
   "source": [
    "class transportasi():\n",
    "    def __init__(pribadi, warna, jenis):\n",
    "        pribadi.warna = warna\n",
    "        pribadi.jenis = jenis\n",
    "\n",
    "class mobil(transportasi):\n",
    "    pass\n",
    "class kereta(transportasi):\n",
    "    pass"
   ]
  },
  {
   "cell_type": "code",
   "execution_count": 3,
   "id": "667f03fb",
   "metadata": {},
   "outputs": [],
   "source": [
    "keretaKu = kereta('merah', 'Avanza')"
   ]
  },
  {
   "cell_type": "code",
   "execution_count": 4,
   "id": "799b724a",
   "metadata": {},
   "outputs": [
    {
     "data": {
      "text/plain": [
       "'Avanza'"
      ]
     },
     "execution_count": 4,
     "metadata": {},
     "output_type": "execute_result"
    }
   ],
   "source": [
    "keretaKu.jenis"
   ]
  },
  {
   "cell_type": "code",
   "execution_count": 8,
   "id": "b2ec88fb",
   "metadata": {},
   "outputs": [
    {
     "name": "stdout",
     "output_type": "stream",
     "text": [
      "Andriansyah\n",
      "20\n"
     ]
    }
   ],
   "source": [
    "class Orang:\n",
    "  def __init__(pribadi, nama, umur):\n",
    "    pribadi.nama = nama\n",
    "    pribadi.umur = umur\n",
    "\n",
    "kriteria = Orang(\"Andriansyah\", 20)\n",
    "\n",
    "print(kriteria.nama)\n",
    "print(kriteria.umur) "
   ]
  },
  {
   "cell_type": "markdown",
   "id": "8a32c4d8",
   "metadata": {},
   "source": [
    "#### 2. Sebutkan dan jelaskan 2 jenis modules yang ada di python\n",
    "\n",
    "Jawaban : \n",
    "1. Random yaitu untuk menghasilkan angka acak di python\n",
    "2. math yaitu berisi fungsi matematika bawaan"
   ]
  },
  {
   "cell_type": "markdown",
   "id": "174a5217",
   "metadata": {},
   "source": [
    "#### Jawaban No. 3\n"
   ]
  },
  {
   "cell_type": "code",
   "execution_count": 16,
   "id": "28c7c542",
   "metadata": {},
   "outputs": [],
   "source": [
    "import math"
   ]
  },
  {
   "cell_type": "code",
   "execution_count": 23,
   "id": "ed194b4b",
   "metadata": {},
   "outputs": [
    {
     "name": "stdout",
     "output_type": "stream",
     "text": [
      "13.228756555322953\n",
      "2.16794833886788\n",
      "0.5773502691896257\n",
      "4.0\n"
     ]
    }
   ],
   "source": [
    "print(math.sqrt(175))\n",
    "print(math.sqrt(4.7))\n",
    "print(math.sqrt(1/3))\n",
    "print(math.log(81,3))"
   ]
  },
  {
   "cell_type": "markdown",
   "id": "7fa6d0a6",
   "metadata": {},
   "source": [
    "#### 4. Apa itu custom exception handling dan berikan 1 contoh implementasinya?\n",
    "Jawaban : Custom exception handling sebuah teknik untuk menangani kasus khusus ketika adanya perintah yang gagal dieksekusi karena adanya kondisi yang tidak sesuai dengan kondisi yang diharapkan"
   ]
  },
  {
   "cell_type": "code",
   "execution_count": 14,
   "id": "358b8d82",
   "metadata": {},
   "outputs": [
    {
     "ename": "Costum",
     "evalue": "ini adalah pesannya!",
     "output_type": "error",
     "traceback": [
      "\u001b[1;31m---------------------------------------------------------------------------\u001b[0m",
      "\u001b[1;31mCostum\u001b[0m                                    Traceback (most recent call last)",
      "\u001b[1;32m<ipython-input-14-974eac644a65>\u001b[0m in \u001b[0;36m<module>\u001b[1;34m\u001b[0m\n\u001b[0;32m      1\u001b[0m \u001b[1;32mclass\u001b[0m \u001b[0mCostum\u001b[0m\u001b[1;33m(\u001b[0m\u001b[0mException\u001b[0m\u001b[1;33m)\u001b[0m\u001b[1;33m:\u001b[0m\u001b[1;33m\u001b[0m\u001b[1;33m\u001b[0m\u001b[0m\n\u001b[0;32m      2\u001b[0m     \u001b[1;32mpass\u001b[0m\u001b[1;33m\u001b[0m\u001b[1;33m\u001b[0m\u001b[0m\n\u001b[1;32m----> 3\u001b[1;33m \u001b[1;32mraise\u001b[0m \u001b[0mCostum\u001b[0m\u001b[1;33m(\u001b[0m\u001b[1;34m\"ini adalah pesannya!\"\u001b[0m\u001b[1;33m)\u001b[0m\u001b[1;33m\u001b[0m\u001b[1;33m\u001b[0m\u001b[0m\n\u001b[0m",
      "\u001b[1;31mCostum\u001b[0m: ini adalah pesannya!"
     ]
    }
   ],
   "source": [
    "class Costum(Exception):\n",
    "    pass\n",
    "raise Costum(\"ini adalah pesannya!\")"
   ]
  },
  {
   "cell_type": "markdown",
   "id": "e304f983",
   "metadata": {},
   "source": [
    "## Artificial Intelligence"
   ]
  },
  {
   "cell_type": "markdown",
   "id": "7bd54cf3",
   "metadata": {},
   "source": [
    "#### 1. Apa perbedaan dari structured dan unstructured data dan sebutkan 3 sumber data\n",
    "Jawaban : \n",
    "1. Data terstruktur merupakan data yang direpresentasikan dalam skema yang jelas sehingga mudah untuk dianalisa maupun diintegrasikan dengan data terstruktur lainnya.\n",
    "2. Data tidak terstruktur merupakan data yang direpresentasikan dalam berbagai bentuk sehingga sangat sulit untuk dianalisis maupun diintegrasikan dengan sumber data lainnya\n",
    "\n",
    "3 sumber data yaitu sensor"
   ]
  },
  {
   "cell_type": "markdown",
   "id": "199e053c",
   "metadata": {},
   "source": [
    "#### 2. Jelaskan perbedaan AI, Machine Learning dan Deep Learning\n",
    "Jawaban :\n",
    "1. AI merupakan teknik apa pun yang memungkinkan komputer meniru kecerdasan manusia, menggunakan logika, aturan jika-maka, pohon keputusan, dan pembelajaran mesin\n",
    "2. Machine Learning merupakan Subset AI yang mencakup teknik statistik muskil yang memungkinkan mesin untuk meningkatkan tugas dengan pengalaman. kategorinya termasuk pembelajaran mendalam\n",
    "3. Deep learing merupakan subset Machine Learning yang terdiri dari algroitma yang memungkinkan perangkat lunak melatih dirinya sendiri untuk melakukan tugas-tugas, seperti pengenalan suara dan gambar, dengan memaparkan jaringan saraf berlapis-lapis ke sejumlah besar data"
   ]
  },
  {
   "cell_type": "markdown",
   "id": "d1fd82d1",
   "metadata": {},
   "source": [
    "#### 3. Apa perbedaan Machine Learning dengan Tradisional software?\n",
    "Jawaban:\n",
    "Perbedaannya adalah Machine Learning menggunakan data dan jawaban di masa lalu, dan memasukkan ke algoritma Machine Learning dan juga menghasilkan aturan output atau jawaban di masa depan. Sedangkan Tadisional software harus membuat aturannya terlebih dahulu dan aturannya terbatas"
   ]
  },
  {
   "cell_type": "markdown",
   "id": "4cb51588",
   "metadata": {},
   "source": [
    "#### 4. Sebutkan 3 contoh aplikasi Machine Learning di sektor smart city dan agriculture\n",
    "Jawaban:\n",
    "1. mCity \n",
    "2. Qlue\n",
    "3. Dokter Tania \n"
   ]
  },
  {
   "cell_type": "markdown",
   "id": "2b817830",
   "metadata": {},
   "source": [
    "## Maths for AI"
   ]
  },
  {
   "cell_type": "markdown",
   "id": "257e99ad",
   "metadata": {},
   "source": [
    "#### 1. Mengapa ilmu matematika penting ketika mempelajari AI\n",
    "Jawaban: Karena agar mendapatkan gambaran yang jelas atau cara kerja internal dari algoritma apapun untuk mencari tahu hubungan antara data dan variabel-variabel dalam data tersebut\n"
   ]
  },
  {
   "cell_type": "markdown",
   "id": "ed999867",
   "metadata": {},
   "source": [
    "#### 2. Jelaskan perbedaan vektor dan skalar!\n",
    "Jawaban:\n",
    "1. Vektor yaitu besaran yang memiliki arah dan nilai, dalam ilmu data vektor adalah kumpulan nilai dari variabel tertentu\n",
    "2. Skalar yaitu konstanta atau besaran yang hanya memiliki nilai, vektor berdimensi sama dan dapat dioperasikan"
   ]
  },
  {
   "cell_type": "markdown",
   "id": "5a13cbdb",
   "metadata": {},
   "source": [
    "#### 3. Apa perbedaan dari jarak Euclidean dan Manhattan?\n",
    "Jawaban:\n",
    "1. Jarak Euclidean merupakan jarak terpendek atara dua titik, Jarak euclidean umumnya digunakan saat menghitung jarak antara dua baris data yang memiliki nilai numerik, seperti floating point atau nilai integer\n",
    "2. Jarak Manhattan merupakan jumlah perbedaan mutlak antara titik titik di semua dimensi \n"
   ]
  },
  {
   "cell_type": "markdown",
   "id": "06ac765c",
   "metadata": {},
   "source": [
    "#### 4. Apa kegunaan matriks dalam ilmu matematika ketika menerapkan AI\n",
    "Jawaban:\n",
    "kegunaanya adalah berguna untuk mempermudah mengerjakan data untuk menyelesaikan suatu masalah yang berkaitan dengan angka dan jumlah pendataan"
   ]
  },
  {
   "cell_type": "markdown",
   "id": "6870f523",
   "metadata": {},
   "source": [
    "## Machine Learning"
   ]
  },
  {
   "cell_type": "markdown",
   "id": "29513905",
   "metadata": {},
   "source": [
    "#### 1. Jelaskan perbedaan supervised dan unsupervised learning dan sebutkan 2 contohnya!\n",
    "Jawaban:\n",
    "1. Supervised Learning yaitu ada data labelnya atau atribut, dan juga meliki target kelasnya untuk mengetahui hubungan antara atribut dan targetnya, biasanya dipakai untuk clasification prediction.\n",
    "Contoh: Image Classification dan Diagnostic\n",
    "2. Unsupervised Learning yaitu tidak mempunyai label data, hanya mempunya atribut saja, biasa dipakai untuk clustering.\n",
    "Contoh: Targetting Marketing dan Customer Segmentation"
   ]
  },
  {
   "cell_type": "markdown",
   "id": "85a5b63a",
   "metadata": {},
   "source": [
    "#### 2. Sebutkan setiap tahap yang ada di Machine Learning life cycle dan jelaskan!\n",
    "Jawaban:\n",
    "1. Gathering data yaitu langkah terpenting dalam memecahkan masalah machine learning yang diawasi. Pengklasifikasi teks hanya bisa sebagus dataset yang digunakan untuk membuatnya\n",
    "2. Preparing data yaitu langkah ini berkaitan dengan mengubah data mentah yang dikumpulkan menjadi bentuk yang dapat digunakan dalam pemodelan\n",
    "3. Choosing a model yaitu mengumpulkan kumpulan data dan memperoleh wawasan tentang karakteristik data, dan juga memikirkan model klasifikasi mana yang harus digunakan\n",
    "4. Training model yaitu menggunakan data untuk secara bertahap meningkatkan kemampuan model untuk memprediksi sesuatu\n",
    "5. Evaluation yaitu memungkinkan kita untuk menguji model terhadap data yang belum pernah digunakan untuk ditraining dan melihat bagaimana kinerja model terhadap data yang belum dilihatnya\n",
    "6. Tuning Hyperparameter yaitu melihat apakah yang ditraining dapat lebih meningkat, kita dapat melakukan ini dengan menyetel parameter kita\n",
    "7. Prediction yaitu finally dapat memprediksi sesuatu dengan menggunakan model yang telah dibuat\n"
   ]
  },
  {
   "cell_type": "markdown",
   "id": "e12c0382",
   "metadata": {},
   "source": [
    "#### 3. Apa perbedaan regression dengan clustering?\n",
    "Jawaban:\n",
    "1. Regression yaitu labelnya berupa numerical atau data continous\n",
    "2. Clustering yaitu metode untuk mengelompokkan data berdasarkan adanya kemiripan satu sama lain"
   ]
  },
  {
   "cell_type": "markdown",
   "id": "57f7e739",
   "metadata": {},
   "source": [
    "#### 4. Apa itu algoritma Artificial Neural Network dan untuk apa fungsinya?\n",
    "Jawaban: \n",
    "Algoritma Artificial Neural Network adalah kemampuan otak manusia yang mampu memberikan stimulasi/rangsangan, melakukan proses, dan memberikan output.\n",
    "Fungsinya:\n",
    "1. Pengklasifikasian pola\n",
    "2. Memetakan pola yang didapat dari input ke dalam pola baru padaoutput\n",
    "3. Penyimpan pola yang akan dipanggil kembali\n",
    "4. Memetakan pola-pola yang sejenis\n",
    "5. Pengoptimasi permasalahan\n",
    "6. Prediksi"
   ]
  }
 ],
 "metadata": {
  "kernelspec": {
   "display_name": "Python 3",
   "language": "python",
   "name": "python3"
  },
  "language_info": {
   "codemirror_mode": {
    "name": "ipython",
    "version": 3
   },
   "file_extension": ".py",
   "mimetype": "text/x-python",
   "name": "python",
   "nbconvert_exporter": "python",
   "pygments_lexer": "ipython3",
   "version": "3.8.8"
  }
 },
 "nbformat": 4,
 "nbformat_minor": 5
}
