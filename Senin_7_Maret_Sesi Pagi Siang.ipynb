{
 "cells": [
  {
   "cell_type": "markdown",
   "id": "4228ecf4",
   "metadata": {},
   "source": [
    "# Encapsulation"
   ]
  },
  {
   "cell_type": "code",
   "execution_count": 12,
   "id": "8e72360a",
   "metadata": {},
   "outputs": [
    {
     "name": "stdout",
     "output_type": "stream",
     "text": [
      "nama: Blackedet, umurnya: 5, warnanya: Ungu janda, jenis: Persia\n",
      "Rawwwrrrrr \n"
     ]
    }
   ],
   "source": [
    "namanya = \"Blackedet\"\n",
    "umur = 5\n",
    "color = \"Ungu janda\"\n",
    "jenis = \"Persia\"\n",
    "\n",
    "def pushhh():\n",
    "  print(\"Rawwwrrrrr \")\n",
    "\n",
    "def kasih_paham(namanya, umur, color, jenis):\n",
    "  print(f\"nama: {namanya}, umurnya: {umur}, warnanya: {color}, jenis: {jenis}\") \n",
    "\n",
    "kasih_paham(namanya, umur, color, jenis)\n",
    "pushhh()"
   ]
  },
  {
   "cell_type": "markdown",
   "id": "69a9b6f8",
   "metadata": {},
   "source": [
    "# Inheritence"
   ]
  },
  {
   "cell_type": "code",
   "execution_count": 13,
   "id": "608e693a",
   "metadata": {},
   "outputs": [
    {
     "name": "stdout",
     "output_type": "stream",
     "text": [
      "Dwwwuuuarrr...dwwwuuuaaarrrr \n",
      "Dwwwuuuarrr...dwwwuuuaaarrrr \n",
      "nama: Bom, jenis: RSM-56 ‘Bulava’\n"
     ]
    }
   ],
   "source": [
    "class Barang(object):\n",
    "    def __init__(self, nama, jenis):\n",
    "        self.nama = nama\n",
    "        self.jenis = jenis\n",
    "\n",
    "    def bomnya(self, suara):\n",
    "        for x in range(suara):\n",
    "            print(\"Dwwwuuuarrr...dwwwuuuaaarrrr \")\n",
    "\n",
    "    def info_barang(self):\n",
    "        self.bomnya(2)\n",
    "        print(f\"nama: {self.nama}, jenis: {self.jenis}\")\n",
    "\n",
    "barangnya = Barang(\"Bom\",\"RSM-56 ‘Bulava’\")\n",
    "\n",
    "barangnya.info_barang()\n",
    "\n"
   ]
  },
  {
   "cell_type": "code",
   "execution_count": 14,
   "id": "d7b2b638",
   "metadata": {},
   "outputs": [
    {
     "name": "stdout",
     "output_type": "stream",
     "text": [
      "Dwwwuuuarrr...dwwwuuuaaarrrr \n",
      "Dwwwuuuarrr...dwwwuuuaaarrrr \n",
      "nama: BOM, jenis: RSM-56 ‘Bulava’\n",
      "warna: True, jenis kucing: hitam putih\n",
      "Dwwwuuuarrr...dwwwuuuaaarrrr \n",
      "Dwwwuuuarrr...dwwwuuuaaarrrr \n",
      "Ayo amankan bom anjer!\n"
     ]
    }
   ],
   "source": [
    "class amankan(Barang):\n",
    "    def __init__(self,  nama, jenis, warna, jenis_bom):\n",
    "        super().__init__(nama, jenis)\n",
    "        self.warna = warna\n",
    "        self.jenis_bom = jenis_bom\n",
    "\n",
    "    def amanin(self):\n",
    "        super().bomnya(2)\n",
    "        print(\"Ayo amankan bom anjer!\")\n",
    "\n",
    "    def amanin_barang(self):\n",
    "        super().info_barang()\n",
    "        print(f\"warna: {self.warna}, jenis kucing: {self.jenis_bom}\")\n",
    "\n",
    "apaya= amankan(\"BOM\",\"RSM-56 ‘Bulava’\", True, \"hitam putih\")\n",
    "\n",
    "apaya.amanin_barang()\n",
    "apaya.amanin()"
   ]
  },
  {
   "cell_type": "markdown",
   "id": "41382b9e",
   "metadata": {},
   "source": [
    "# Polymorphism"
   ]
  },
  {
   "cell_type": "code",
   "execution_count": 15,
   "id": "3382c66b",
   "metadata": {},
   "outputs": [
    {
     "name": "stdout",
     "output_type": "stream",
     "text": [
      "nama: cengir, umur: 20, jenis: Laki-laki\n",
      "Ayo futsalan!!!\n",
      "Ayo futsalan!!!\n",
      "Sorry ya ga bisar\n"
     ]
    }
   ],
   "source": [
    "class makhluk_hidup(object):\n",
    "  def __init__(self, nama, umur, jenis_kelamin):\n",
    "    self.nama = nama\n",
    "    self.umur = umur\n",
    "    self.jenis_kelamin = jenis_kelamin\n",
    "\n",
    "  def futsal(self, jamber):\n",
    "    for x in range(jamber):\n",
    "      print(\"Ayo futsalan!!!\")\n",
    "\n",
    "  def info_nya(self):\n",
    "    print(f\"nama: {self.nama}, umur: {self.umur}, jenis: {self.jenis_kelamin}\")\n",
    "\n",
    "\n",
    "class Manusia(makhluk_hidup):\n",
    "  def __init__(self, nama, umur, jenis_kelamin):\n",
    "    super().__init__(nama, umur, jenis_kelamin)\n",
    "  \n",
    "  def main(self, jam):\n",
    "    if jam >= 8 :\n",
    "      print(\"gasskeun\")\n",
    "    else:\n",
    "      print(\"Sorry ya ga bisar\")\n",
    "\n",
    "humanity = Manusia(\"cengir\", 20, \"Laki-laki\")\n",
    "\n",
    "humanity.info_nya()\n",
    "humanity.futsal(2)\n",
    "humanity.main(5)"
   ]
  },
  {
   "cell_type": "markdown",
   "id": "0c187a68",
   "metadata": {},
   "source": [
    "# Abstraction"
   ]
  },
  {
   "cell_type": "code",
   "execution_count": 16,
   "id": "5b3ec35f",
   "metadata": {},
   "outputs": [],
   "source": [
    "from abc import ABC, abstractmethod "
   ]
  },
  {
   "cell_type": "code",
   "execution_count": 22,
   "id": "1f6477e3",
   "metadata": {},
   "outputs": [
    {
     "name": "stdout",
     "output_type": "stream",
     "text": [
      "Jarak tempuhnya adalah 25 kmph\n",
      "Jarak tempuhnya adalah 30 kmph \n",
      "Jarak tempuhnya adalah 21 kmph \n",
      "Jarak tempuhnya adalah 24 mph \n"
     ]
    }
   ],
   "source": [
    "class mobil(ABC):   \n",
    "    def tempuh(coba):   \n",
    "        pass  \n",
    "  \n",
    "class Fortuner(mobil):   \n",
    "    def tempuh(coba):   \n",
    "        print(\"Jarak tempuhnya adalah 25 kmph\")   \n",
    "class Pajero(mobil):   \n",
    "    def tempuh(coba):   \n",
    "        print(\"Jarak tempuhnya adalah 30 kmph \")   \n",
    "class Innova(mobil):   \n",
    "     def tempuh(coba):   \n",
    "          print(\"Jarak tempuhnya adalah 21 kmph \")   \n",
    "  \n",
    "class Xenia(mobil):   \n",
    "    def tempuh(coba):   \n",
    "            print(\"Jarak tempuhnya adalah 24 mph \")   \n",
    "             \n",
    "t= Fortuner ()   \n",
    "t.tempuh()   \n",
    "  \n",
    "r = Pajero()\n",
    "r.tempuh() \n",
    "  \n",
    "s = Innova()   \n",
    "s.tempuh()   \n",
    "d = Xenia()   \n",
    "d.tempuh()  "
   ]
  },
  {
   "cell_type": "markdown",
   "id": "4bef690c",
   "metadata": {},
   "source": [
    "# Tugas_OOP"
   ]
  },
  {
   "cell_type": "code",
   "execution_count": 8,
   "id": "f77327c7",
   "metadata": {},
   "outputs": [],
   "source": [
    "import andre_oop as ao"
   ]
  },
  {
   "cell_type": "code",
   "execution_count": 11,
   "id": "7fd6a09d",
   "metadata": {},
   "outputs": [
    {
     "name": "stdout",
     "output_type": "stream",
     "text": [
      "Nama Mahasiswa : Andriansyah\n",
      "Universitas 21\n",
      "\n",
      "Nama Mahasiswa : Susi\n",
      "Universitas 20\n",
      "\n"
     ]
    }
   ],
   "source": [
    "ao.namaKu1.profil()\n",
    "ao.namaKu2.profil()"
   ]
  },
  {
   "cell_type": "code",
   "execution_count": 23,
   "id": "01db74b4",
   "metadata": {},
   "outputs": [
    {
     "name": "stdout",
     "output_type": "stream",
     "text": [
      "gaskeun kita kepuncak!!!\n"
     ]
    }
   ],
   "source": [
    "ao.ngeride(10)"
   ]
  },
  {
   "cell_type": "code",
   "execution_count": 10,
   "id": "3ae82cd5",
   "metadata": {},
   "outputs": [
    {
     "data": {
      "text/plain": [
       "50"
      ]
     },
     "execution_count": 10,
     "metadata": {},
     "output_type": "execute_result"
    }
   ],
   "source": [
    "ao.kali()"
   ]
  },
  {
   "cell_type": "code",
   "execution_count": 9,
   "id": "b3b7220d",
   "metadata": {},
   "outputs": [
    {
     "data": {
      "text/plain": [
       "64"
      ]
     },
     "execution_count": 9,
     "metadata": {},
     "output_type": "execute_result"
    }
   ],
   "source": [
    "ao.pangkat()"
   ]
  },
  {
   "cell_type": "code",
   "execution_count": null,
   "id": "97d9de4e",
   "metadata": {},
   "outputs": [],
   "source": []
  }
 ],
 "metadata": {
  "kernelspec": {
   "display_name": "Python 3",
   "language": "python",
   "name": "python3"
  },
  "language_info": {
   "codemirror_mode": {
    "name": "ipython",
    "version": 3
   },
   "file_extension": ".py",
   "mimetype": "text/x-python",
   "name": "python",
   "nbconvert_exporter": "python",
   "pygments_lexer": "ipython3",
   "version": "3.8.8"
  }
 },
 "nbformat": 4,
 "nbformat_minor": 5
}
